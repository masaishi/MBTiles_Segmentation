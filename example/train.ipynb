{
 "cells": [
  {
   "cell_type": "code",
   "execution_count": 5,
   "metadata": {},
   "outputs": [],
   "source": [
    "#!rm -rf /notebooks/tokyo_map_images\n",
    "#!unzip /notebooks/japan_tokyo_dataset.zip -d /notebooks/tokyo_map_images"
   ]
  },
  {
   "cell_type": "code",
   "execution_count": 1,
   "metadata": {},
   "outputs": [
    {
     "name": "stdout",
     "output_type": "stream",
     "text": [
      "Collecting git+https://github.com/ultralytics/ultralytics.git@main\n",
      "  Cloning https://github.com/ultralytics/ultralytics.git (to revision main) to /tmp/pip-req-build-vmft2rao\n",
      "  Running command git clone --filter=blob:none --quiet https://github.com/ultralytics/ultralytics.git /tmp/pip-req-build-vmft2rao\n",
      "  Resolved https://github.com/ultralytics/ultralytics.git to commit bc5b528ca78c67a689ce6001af963aaa1a5b2d5e\n",
      "  Preparing metadata (setup.py) ... \u001b[?25ldone\n",
      "\u001b[?25hRequirement already satisfied: matplotlib>=3.3.0 in /usr/local/lib/python3.9/dist-packages (from ultralytics==8.0.229) (3.6.1)\n",
      "Requirement already satisfied: numpy>=1.22.2 in /usr/local/lib/python3.9/dist-packages (from ultralytics==8.0.229) (1.23.4)\n",
      "Requirement already satisfied: opencv-python>=4.6.0 in /usr/local/lib/python3.9/dist-packages (from ultralytics==8.0.229) (4.6.0.66)\n",
      "Requirement already satisfied: pillow>=7.1.2 in /usr/local/lib/python3.9/dist-packages (from ultralytics==8.0.229) (9.2.0)\n",
      "Requirement already satisfied: pyyaml>=5.3.1 in /usr/local/lib/python3.9/dist-packages (from ultralytics==8.0.229) (5.4.1)\n",
      "Requirement already satisfied: requests>=2.23.0 in /usr/local/lib/python3.9/dist-packages (from ultralytics==8.0.229) (2.28.2)\n",
      "Requirement already satisfied: scipy>=1.4.1 in /usr/local/lib/python3.9/dist-packages (from ultralytics==8.0.229) (1.9.2)\n",
      "Requirement already satisfied: torch>=1.8.0 in /usr/local/lib/python3.9/dist-packages (from ultralytics==8.0.229) (1.12.1+cu116)\n",
      "Requirement already satisfied: torchvision>=0.9.0 in /usr/local/lib/python3.9/dist-packages (from ultralytics==8.0.229) (0.13.1+cu116)\n",
      "Requirement already satisfied: tqdm>=4.64.0 in /usr/local/lib/python3.9/dist-packages (from ultralytics==8.0.229) (4.64.1)\n",
      "Requirement already satisfied: pandas>=1.1.4 in /usr/local/lib/python3.9/dist-packages (from ultralytics==8.0.229) (1.5.0)\n",
      "Requirement already satisfied: seaborn>=0.11.0 in /usr/local/lib/python3.9/dist-packages (from ultralytics==8.0.229) (0.12.0)\n",
      "Requirement already satisfied: psutil in /usr/local/lib/python3.9/dist-packages (from ultralytics==8.0.229) (5.9.4)\n",
      "Collecting py-cpuinfo\n",
      "  Downloading py_cpuinfo-9.0.0-py3-none-any.whl (22 kB)\n",
      "Collecting thop>=0.1.1\n",
      "  Downloading thop-0.1.1.post2209072238-py3-none-any.whl (15 kB)\n",
      "Requirement already satisfied: cycler>=0.10 in /usr/local/lib/python3.9/dist-packages (from matplotlib>=3.3.0->ultralytics==8.0.229) (0.11.0)\n",
      "Requirement already satisfied: kiwisolver>=1.0.1 in /usr/local/lib/python3.9/dist-packages (from matplotlib>=3.3.0->ultralytics==8.0.229) (1.4.4)\n",
      "Requirement already satisfied: contourpy>=1.0.1 in /usr/local/lib/python3.9/dist-packages (from matplotlib>=3.3.0->ultralytics==8.0.229) (1.0.7)\n",
      "Requirement already satisfied: python-dateutil>=2.7 in /usr/local/lib/python3.9/dist-packages (from matplotlib>=3.3.0->ultralytics==8.0.229) (2.8.2)\n",
      "Requirement already satisfied: packaging>=20.0 in /usr/local/lib/python3.9/dist-packages (from matplotlib>=3.3.0->ultralytics==8.0.229) (23.0)\n",
      "Requirement already satisfied: fonttools>=4.22.0 in /usr/local/lib/python3.9/dist-packages (from matplotlib>=3.3.0->ultralytics==8.0.229) (4.38.0)\n",
      "Requirement already satisfied: pyparsing>=2.2.1 in /usr/local/lib/python3.9/dist-packages (from matplotlib>=3.3.0->ultralytics==8.0.229) (3.0.9)\n",
      "Requirement already satisfied: pytz>=2020.1 in /usr/local/lib/python3.9/dist-packages (from pandas>=1.1.4->ultralytics==8.0.229) (2022.7.1)\n",
      "Requirement already satisfied: urllib3<1.27,>=1.21.1 in /usr/local/lib/python3.9/dist-packages (from requests>=2.23.0->ultralytics==8.0.229) (1.26.14)\n",
      "Requirement already satisfied: certifi>=2017.4.17 in /usr/lib/python3/dist-packages (from requests>=2.23.0->ultralytics==8.0.229) (2019.11.28)\n",
      "Requirement already satisfied: idna<4,>=2.5 in /usr/lib/python3/dist-packages (from requests>=2.23.0->ultralytics==8.0.229) (2.8)\n",
      "Requirement already satisfied: charset-normalizer<4,>=2 in /usr/local/lib/python3.9/dist-packages (from requests>=2.23.0->ultralytics==8.0.229) (2.1.1)\n",
      "Requirement already satisfied: typing-extensions in /usr/local/lib/python3.9/dist-packages (from torch>=1.8.0->ultralytics==8.0.229) (4.4.0)\n",
      "Requirement already satisfied: six>=1.5 in /usr/lib/python3/dist-packages (from python-dateutil>=2.7->matplotlib>=3.3.0->ultralytics==8.0.229) (1.14.0)\n",
      "Building wheels for collected packages: ultralytics\n",
      "  Building wheel for ultralytics (setup.py) ... \u001b[?25ldone\n",
      "\u001b[?25h  Created wheel for ultralytics: filename=ultralytics-8.0.229-py3-none-any.whl size=663190 sha256=be18ff0710454759ccbf78f6369c6f17b5eaebcb3686b0fd5779d91d18b91897\n",
      "  Stored in directory: /tmp/pip-ephem-wheel-cache-mran2_mv/wheels/c3/eb/34/5edd3a3a0704c89351b67d8967a3690c118940addba327e5f0\n",
      "Successfully built ultralytics\n",
      "Installing collected packages: py-cpuinfo, thop, ultralytics\n",
      "Successfully installed py-cpuinfo-9.0.0 thop-0.1.1.post2209072238 ultralytics-8.0.229\n",
      "\u001b[33mWARNING: Running pip as the 'root' user can result in broken permissions and conflicting behaviour with the system package manager. It is recommended to use a virtual environment instead: https://pip.pypa.io/warnings/venv\u001b[0m\u001b[33m\n",
      "\u001b[0m"
     ]
    }
   ],
   "source": [
    "# Install the ultralytics package from GitHub\n",
    "!pip install git+https://github.com/ultralytics/ultralytics.git@main"
   ]
  },
  {
   "cell_type": "code",
   "execution_count": 2,
   "metadata": {},
   "outputs": [],
   "source": [
    "#!wget https://github.com/ultralytics/assets/releases/download/v0.0.0/yolov8x-seg.pt"
   ]
  },
  {
   "cell_type": "code",
   "execution_count": 3,
   "metadata": {},
   "outputs": [],
   "source": [
    "!rm -rf /notebooks/japan_tokyo_dataset.zip\n",
    "!rm -rf /notebooks/japan_tokyo_dataset\n",
    "!rm -rf /notebooks/runs"
   ]
  },
  {
   "cell_type": "code",
   "execution_count": 6,
   "metadata": {},
   "outputs": [
    {
     "name": "stdout",
     "output_type": "stream",
     "text": [
      "Archive:  /notebooks/japan_tokyo_dataset.zip\n",
      "   creating: /notebooks/japan_tokyo_dataset_parent/japan_tokyo_dataset/\n",
      "   creating: /notebooks/japan_tokyo_dataset_parent/japan_tokyo_dataset/images/\n",
      "   creating: /notebooks/japan_tokyo_dataset_parent/japan_tokyo_dataset/labels/\n",
      "  inflating: /notebooks/japan_tokyo_dataset_parent/japan_tokyo_dataset/dataset.yaml  \n",
      "   creating: /notebooks/japan_tokyo_dataset_parent/japan_tokyo_dataset/images/train/\n",
      "   creating: /notebooks/japan_tokyo_dataset_parent/japan_tokyo_dataset/images/val/\n",
      "   creating: /notebooks/japan_tokyo_dataset_parent/japan_tokyo_dataset/labels/train/\n",
      "   creating: /notebooks/japan_tokyo_dataset_parent/japan_tokyo_dataset/labels/val/\n",
      "  inflating: /notebooks/japan_tokyo_dataset_parent/japan_tokyo_dataset/images/train/12_4.png  \n",
      "  inflating: /notebooks/japan_tokyo_dataset_parent/japan_tokyo_dataset/images/train/14_2.png  \n",
      "  inflating: /notebooks/japan_tokyo_dataset_parent/japan_tokyo_dataset/images/train/14_3.png  \n",
      "  inflating: /notebooks/japan_tokyo_dataset_parent/japan_tokyo_dataset/images/train/12_5.png  \n",
      "  inflating: /notebooks/japan_tokyo_dataset_parent/japan_tokyo_dataset/images/train/12_7.png  \n",
      "  inflating: /notebooks/japan_tokyo_dataset_parent/japan_tokyo_dataset/images/train/14_1.png  \n",
      "  inflating: /notebooks/japan_tokyo_dataset_parent/japan_tokyo_dataset/images/train/14_0.png  \n",
      "  inflating: /notebooks/japan_tokyo_dataset_parent/japan_tokyo_dataset/images/train/12_6.png  \n",
      "  inflating: /notebooks/japan_tokyo_dataset_parent/japan_tokyo_dataset/images/train/12_2.png  \n",
      "  inflating: /notebooks/japan_tokyo_dataset_parent/japan_tokyo_dataset/images/train/14_4.png  \n",
      "  inflating: /notebooks/japan_tokyo_dataset_parent/japan_tokyo_dataset/images/train/14_5.png  \n",
      "  inflating: /notebooks/japan_tokyo_dataset_parent/japan_tokyo_dataset/images/train/12_3.png  \n",
      "  inflating: /notebooks/japan_tokyo_dataset_parent/japan_tokyo_dataset/images/train/12_1.png  \n",
      "  inflating: /notebooks/japan_tokyo_dataset_parent/japan_tokyo_dataset/images/train/14_7.png  \n",
      "  inflating: /notebooks/japan_tokyo_dataset_parent/japan_tokyo_dataset/images/train/14_6.png  \n",
      "  inflating: /notebooks/japan_tokyo_dataset_parent/japan_tokyo_dataset/images/train/13_7.png  \n",
      "  inflating: /notebooks/japan_tokyo_dataset_parent/japan_tokyo_dataset/images/train/13_6.png  \n",
      "  inflating: /notebooks/japan_tokyo_dataset_parent/japan_tokyo_dataset/images/train/11_4.png  \n",
      "  inflating: /notebooks/japan_tokyo_dataset_parent/japan_tokyo_dataset/images/train/13_4.png  \n",
      "  inflating: /notebooks/japan_tokyo_dataset_parent/japan_tokyo_dataset/images/train/13_5.png  \n",
      "  inflating: /notebooks/japan_tokyo_dataset_parent/japan_tokyo_dataset/images/train/11_7.png  \n",
      "  inflating: /notebooks/japan_tokyo_dataset_parent/japan_tokyo_dataset/images/train/11_3.png  \n",
      "  inflating: /notebooks/japan_tokyo_dataset_parent/japan_tokyo_dataset/images/train/13_1.png  \n",
      "  inflating: /notebooks/japan_tokyo_dataset_parent/japan_tokyo_dataset/images/train/13_0.png  \n",
      "  inflating: /notebooks/japan_tokyo_dataset_parent/japan_tokyo_dataset/images/train/11_2.png  \n",
      "  inflating: /notebooks/japan_tokyo_dataset_parent/japan_tokyo_dataset/images/train/13_2.png  \n",
      "  inflating: /notebooks/japan_tokyo_dataset_parent/japan_tokyo_dataset/images/train/13_3.png  \n",
      "  inflating: /notebooks/japan_tokyo_dataset_parent/japan_tokyo_dataset/images/train/11_1.png  \n",
      "  inflating: /notebooks/japan_tokyo_dataset_parent/japan_tokyo_dataset/images/train/13_8.png  \n",
      "  inflating: /notebooks/japan_tokyo_dataset_parent/japan_tokyo_dataset/images/train/13_9.png  \n",
      "  inflating: /notebooks/japan_tokyo_dataset_parent/japan_tokyo_dataset/images/train/11_9.png  \n",
      "  inflating: /notebooks/japan_tokyo_dataset_parent/japan_tokyo_dataset/images/train/11_8.png  \n",
      "  inflating: /notebooks/japan_tokyo_dataset_parent/japan_tokyo_dataset/images/train/14_8.png  \n",
      "  inflating: /notebooks/japan_tokyo_dataset_parent/japan_tokyo_dataset/images/train/14_9.png  \n",
      "  inflating: /notebooks/japan_tokyo_dataset_parent/japan_tokyo_dataset/images/train/12_8.png  \n",
      "  inflating: /notebooks/japan_tokyo_dataset_parent/japan_tokyo_dataset/images/train/12_9.png  \n",
      "  inflating: /notebooks/japan_tokyo_dataset_parent/japan_tokyo_dataset/images/val/12_0.png  \n",
      "  inflating: /notebooks/japan_tokyo_dataset_parent/japan_tokyo_dataset/images/val/11_6.png  \n",
      "  inflating: /notebooks/japan_tokyo_dataset_parent/japan_tokyo_dataset/labels/train/13_6.txt  \n",
      "  inflating: /notebooks/japan_tokyo_dataset_parent/japan_tokyo_dataset/labels/train/11_4.txt  \n",
      "  inflating: /notebooks/japan_tokyo_dataset_parent/__MACOSX/japan_tokyo_dataset/labels/train/._11_4.txt  \n",
      "  inflating: /notebooks/japan_tokyo_dataset_parent/japan_tokyo_dataset/labels/train/13_7.txt  \n",
      "  inflating: /notebooks/japan_tokyo_dataset_parent/japan_tokyo_dataset/labels/train/13_5.txt  \n",
      "  inflating: /notebooks/japan_tokyo_dataset_parent/japan_tokyo_dataset/labels/train/11_7.txt  \n",
      "  inflating: /notebooks/japan_tokyo_dataset_parent/japan_tokyo_dataset/labels/train/13_4.txt  \n",
      "  inflating: /notebooks/japan_tokyo_dataset_parent/japan_tokyo_dataset/labels/train/13_0.txt  \n",
      "  inflating: /notebooks/japan_tokyo_dataset_parent/japan_tokyo_dataset/labels/train/11_2.txt  \n",
      "  inflating: /notebooks/japan_tokyo_dataset_parent/japan_tokyo_dataset/labels/train/11_3.txt  \n",
      "  inflating: /notebooks/japan_tokyo_dataset_parent/japan_tokyo_dataset/labels/train/13_1.txt  \n",
      "  inflating: /notebooks/japan_tokyo_dataset_parent/japan_tokyo_dataset/labels/train/13_3.txt  \n",
      "  inflating: /notebooks/japan_tokyo_dataset_parent/japan_tokyo_dataset/labels/train/11_1.txt  \n",
      "  inflating: /notebooks/japan_tokyo_dataset_parent/japan_tokyo_dataset/labels/train/13_2.txt  \n",
      "  inflating: /notebooks/japan_tokyo_dataset_parent/japan_tokyo_dataset/labels/train/14_3.txt  \n",
      "  inflating: /notebooks/japan_tokyo_dataset_parent/japan_tokyo_dataset/labels/train/12_5.txt  \n",
      "  inflating: /notebooks/japan_tokyo_dataset_parent/japan_tokyo_dataset/labels/train/12_4.txt  \n",
      "  inflating: /notebooks/japan_tokyo_dataset_parent/japan_tokyo_dataset/labels/train/14_2.txt  \n",
      "  inflating: /notebooks/japan_tokyo_dataset_parent/japan_tokyo_dataset/labels/train/14_0.txt  \n",
      "  inflating: /notebooks/japan_tokyo_dataset_parent/japan_tokyo_dataset/labels/train/12_6.txt  \n",
      " extracting: /notebooks/japan_tokyo_dataset_parent/japan_tokyo_dataset/labels/train/12_7.txt  \n",
      "  inflating: /notebooks/japan_tokyo_dataset_parent/japan_tokyo_dataset/labels/train/14_1.txt  \n",
      "  inflating: /notebooks/japan_tokyo_dataset_parent/japan_tokyo_dataset/labels/train/14_5.txt  \n",
      "  inflating: /notebooks/japan_tokyo_dataset_parent/japan_tokyo_dataset/labels/train/12_3.txt  \n",
      "  inflating: /notebooks/japan_tokyo_dataset_parent/japan_tokyo_dataset/labels/train/12_2.txt  \n",
      "  inflating: /notebooks/japan_tokyo_dataset_parent/__MACOSX/japan_tokyo_dataset/labels/train/._12_2.txt  \n",
      "  inflating: /notebooks/japan_tokyo_dataset_parent/japan_tokyo_dataset/labels/train/14_4.txt  \n",
      "  inflating: /notebooks/japan_tokyo_dataset_parent/japan_tokyo_dataset/labels/train/14_6.txt  \n",
      "  inflating: /notebooks/japan_tokyo_dataset_parent/japan_tokyo_dataset/labels/train/12_1.txt  \n",
      "  inflating: /notebooks/japan_tokyo_dataset_parent/japan_tokyo_dataset/labels/train/14_7.txt  \n",
      "  inflating: /notebooks/japan_tokyo_dataset_parent/japan_tokyo_dataset/labels/train/14_9.txt  \n",
      "  inflating: /notebooks/japan_tokyo_dataset_parent/japan_tokyo_dataset/labels/train/14_8.txt  \n",
      "  inflating: /notebooks/japan_tokyo_dataset_parent/japan_tokyo_dataset/labels/train/12_9.txt  \n",
      "  inflating: /notebooks/japan_tokyo_dataset_parent/japan_tokyo_dataset/labels/train/12_8.txt  \n",
      "  inflating: /notebooks/japan_tokyo_dataset_parent/japan_tokyo_dataset/labels/train/13_9.txt  \n",
      "  inflating: /notebooks/japan_tokyo_dataset_parent/japan_tokyo_dataset/labels/train/13_8.txt  \n",
      "  inflating: /notebooks/japan_tokyo_dataset_parent/japan_tokyo_dataset/labels/train/11_8.txt  \n",
      "  inflating: /notebooks/japan_tokyo_dataset_parent/japan_tokyo_dataset/labels/train/11_9.txt  \n",
      "  inflating: /notebooks/japan_tokyo_dataset_parent/japan_tokyo_dataset/labels/val/11_6.txt  \n",
      "  inflating: /notebooks/japan_tokyo_dataset_parent/japan_tokyo_dataset/labels/val/12_0.txt  \n"
     ]
    }
   ],
   "source": [
    "!unzip /notebooks/japan_tokyo_dataset.zip -d /notebooks/japan_tokyo_dataset_parent"
   ]
  },
  {
   "cell_type": "code",
   "execution_count": 7,
   "metadata": {},
   "outputs": [],
   "source": [
    "!mv /notebooks/japan_tokyo_dataset_parent/japan_tokyo_dataset /notebooks/japan_tokyo_dataset\n",
    "!rm -rf /notebooks/japan_tokyo_dataset_parent"
   ]
  },
  {
   "cell_type": "code",
   "execution_count": null,
   "metadata": {},
   "outputs": [],
   "source": [
    "yolo detect train data=/notebooks/japan_tokyo_dataset/dataset.yaml model=notebooks/yolov8n-seg.pt epochs=1000 imgsz=512"
   ]
  },
  {
   "cell_type": "code",
   "execution_count": 13,
   "metadata": {},
   "outputs": [],
   "source": [
    "!rm -rf /notebooks/coco_converted"
   ]
  },
  {
   "cell_type": "code",
   "execution_count": 11,
   "metadata": {},
   "outputs": [
    {
     "name": "stdout",
     "output_type": "stream",
     "text": [
      "COCO data converted successfully.\n",
      "Results saved to /notebooks/coco_converted2\n"
     ]
    }
   ],
   "source": [
    "from ultralytics.data.converter import convert_coco\n",
    "\n",
    "convert_coco(labels_dir='/notebooks/japan_tokyo_dataset', use_segments=True)"
   ]
  },
  {
   "cell_type": "code",
   "execution_count": 17,
   "metadata": {},
   "outputs": [],
   "source": [
    "from ultralytics import YOLO\n",
    "\n",
    "model = YOLO('/notebooks/runs/segment/train4/weights/best.pt')\n"
   ]
  },
  {
   "cell_type": "code",
   "execution_count": 19,
   "metadata": {},
   "outputs": [
    {
     "name": "stdout",
     "output_type": "stream",
     "text": [
      "\n",
      "0: 1024x1024 (no detections), 7.8ms\n",
      "Speed: 20.2ms preprocess, 7.8ms inference, 0.4ms postprocess per image at shape (1, 3, 1024, 1024)\n",
      "Results saved to \u001b[1mruns/segment/predict\u001b[0m\n",
      "[ultralytics.engine.results.Results object with attributes:\n",
      "\n",
      "boxes: ultralytics.engine.results.Boxes object\n",
      "keypoints: None\n",
      "masks: None\n",
      "names: {0: 'minor', 1: 'service', 2: 'tertiary', 3: 'rail', 4: 'primary', 5: 'secondary', 6: 'motorway', 7: 'trunk', 8: 'path', 9: 'taxiway', 10: 'river'}\n",
      "orig_img: array([[[255, 255, 255],\n",
      "        [255, 255, 255],\n",
      "        [255, 255, 255],\n",
      "        ...,\n",
      "        [255, 255, 255],\n",
      "        [255, 255, 255],\n",
      "        [255, 255, 255]],\n",
      "\n",
      "       [[255, 255, 255],\n",
      "        [255, 255, 255],\n",
      "        [255, 255, 255],\n",
      "        ...,\n",
      "        [255, 255, 255],\n",
      "        [255, 255, 255],\n",
      "        [255, 255, 255]],\n",
      "\n",
      "       [[255, 255, 255],\n",
      "        [255, 255, 255],\n",
      "        [255, 255, 255],\n",
      "        ...,\n",
      "        [255, 255, 255],\n",
      "        [255, 255, 255],\n",
      "        [255, 255, 255]],\n",
      "\n",
      "       ...,\n",
      "\n",
      "       [[255, 255, 255],\n",
      "        [255, 255, 255],\n",
      "        [255, 255, 255],\n",
      "        ...,\n",
      "        [255, 255, 255],\n",
      "        [255, 255, 255],\n",
      "        [255, 255, 255]],\n",
      "\n",
      "       [[255, 255, 255],\n",
      "        [255, 255, 255],\n",
      "        [255, 255, 255],\n",
      "        ...,\n",
      "        [255, 255, 255],\n",
      "        [255, 255, 255],\n",
      "        [255, 255, 255]],\n",
      "\n",
      "       [[255, 255, 255],\n",
      "        [255, 255, 255],\n",
      "        [255, 255, 255],\n",
      "        ...,\n",
      "        [255, 255, 255],\n",
      "        [255, 255, 255],\n",
      "        [255, 255, 255]]], dtype=uint8)\n",
      "orig_shape: (1024, 1024)\n",
      "path: '/notebooks/japan_tokyo_dataset/images/val/11_17.png'\n",
      "probs: None\n",
      "save_dir: 'runs/segment/predict'\n",
      "speed: {'preprocess': 20.244121551513672, 'inference': 7.789134979248047, 'postprocess': 0.37980079650878906}]\n"
     ]
    },
    {
     "data": {
      "image/png": "[encoded data removed]",
      "text/plain": [
       "<PIL.PngImagePlugin.PngImageFile image mode=RGB size=1024x1024>"
      ]
     },
     "metadata": {},
     "output_type": "display_data"
    }
   ],
   "source": [
    "from PIL import Image\n",
    "import cv2\n",
    "\n",
    "# from PIL\n",
    "im1 = Image.open(\"/notebooks/japan_tokyo_dataset/images/val/11_17.png\")\n",
    "results = model.predict(source=im1, save=True)  # save plotted images\n",
    "print(results)\n",
    "display(Image.open('/notebooks/runs/segment/predict/11_17.png'))"
   ]
  },
  {
   "cell_type": "code",
   "execution_count": null,
   "metadata": {},
   "outputs": [],
   "source": []
  }
 ],
 "metadata": {
  "kernelspec": {
   "display_name": "Python 3 (ipykernel)",
   "language": "python",
   "name": "python3"
  },
  "language_info": {
   "codemirror_mode": {
    "name": "ipython",
    "version": 3
   },
   "file_extension": ".py",
   "mimetype": "text/x-python",
   "name": "python",
   "nbconvert_exporter": "python",
   "pygments_lexer": "ipython3",
   "version": "3.9.16"
  }
 },
 "nbformat": 4,
 "nbformat_minor": 2
}
