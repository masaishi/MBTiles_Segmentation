{
 "cells": [
  {
   "cell_type": "markdown",
   "metadata": {},
   "source": [
    "# Getting Started Notebook of [README.md](../README.md)\n",
    "\n",
    "### 3. **Explore MBTiles Handler:**"
   ]
  },
  {
   "cell_type": "markdown",
   "metadata": {},
   "source": [
    "- To get information about zoom level min and max:"
   ]
  },
  {
   "cell_type": "code",
   "execution_count": 1,
   "metadata": {},
   "outputs": [
    {
     "name": "stdout",
     "output_type": "stream",
     "text": [
      "(0, 14)\n"
     ]
    }
   ],
   "source": [
    "!seg_mbtiles_handler --mbtiles_path ../sample/japan_tokyo.mbtiles --zoom_minmax"
   ]
  },
  {
   "cell_type": "markdown",
   "metadata": {},
   "source": [
    "- To get column min and max for a specific zoom level (e.g., zoom level 12):"
   ]
  },
  {
   "cell_type": "code",
   "execution_count": 2,
   "metadata": {},
   "outputs": [
    {
     "name": "stdout",
     "output_type": "stream",
     "text": [
      "(3626, 3653)\n"
     ]
    }
   ],
   "source": [
    "!seg_mbtiles_handler --mbtiles_path ../sample/japan_tokyo.mbtiles --column_minmax 12"
   ]
  },
  {
   "cell_type": "markdown",
   "metadata": {},
   "source": [
    "- To get row min and max for a specific zoom level (e.g., zoom level 12):"
   ]
  },
  {
   "cell_type": "code",
   "execution_count": 3,
   "metadata": {},
   "outputs": [
    {
     "name": "stdout",
     "output_type": "stream",
     "text": [
      "(2471, 2495)\n"
     ]
    }
   ],
   "source": [
    "!seg_mbtiles_handler --mbtiles_path ../sample/japan_tokyo.mbtiles --row_minmax 12"
   ]
  },
  {
   "cell_type": "markdown",
   "metadata": {},
   "source": [
    "- To get data for a specific tile (e.g., zoom level 12, column 123, row 456):"
   ]
  },
  {
   "cell_type": "code",
   "execution_count": 4,
   "metadata": {},
   "outputs": [
    {
     "name": "stdout",
     "output_type": "stream",
     "text": [
      "      id        type  ... name:lb                                           geometry\n",
      "10     1  LineString  ...     NaN  LINESTRING (1352 525, 1298 464, 1188 434, 1025...\n",
      "11     2  LineString  ...     NaN  LINESTRING (1102 76, 1075 41, 956 -35, 842 -30...\n",
      "12     3  LineString  ...     NaN  LINESTRING (2704 162, 2830 112, 2919 103, 2977...\n",
      "13     4  LineString  ...     NaN  LINESTRING (2510 124, 2516 74, 2556 37, 2526 -...\n",
      "14     5  LineString  ...     NaN          LINESTRING (1702 -26, 1691 -56, 1683 -64)\n",
      "...   ..         ...  ...     ...                                                ...\n",
      "2208  26  LineString  ...     NaN  LINESTRING (3211 819, 3239 881, 3288 940, 3407...\n",
      "2209  27  LineString  ...     NaN  LINESTRING (4224 1585, 4131 1538, 4061 1521, 3...\n",
      "2210  28  LineString  ...     NaN  LINESTRING (3333 2996, 3436 3108, 3533 3188, 3...\n",
      "2211  29  LineString  ...     NaN  LINESTRING (4224 3257, 4133 3277, 4067 3283, 3...\n",
      "2212  30  LineString  ...     NaN  LINESTRING (3176 977, 3101 993, 3079 992, 3060...\n",
      "\n",
      "[2068 rows x 79 columns]\n"
     ]
    }
   ],
   "source": [
    "!seg_mbtiles_handler --mbtiles_path ../sample/japan_tokyo.mbtiles --get_tile 10 907 619"
   ]
  },
  {
   "cell_type": "markdown",
   "metadata": {},
   "source": [
    "- To get random tile data for a specific zoom level (e.g., zoom level 11):"
   ]
  },
  {
   "cell_type": "code",
   "execution_count": 5,
   "metadata": {},
   "outputs": [
    {
     "name": "stdout",
     "output_type": "stream",
     "text": [
      "     id  ...                                           geometry\n",
      "5     1  ...  LINESTRING (231 4160, 132 3933, 31 3663, -64 3...\n",
      "6     2  ...  LINESTRING (774 1490, 685 1144, 737 1126, 728 ...\n",
      "7     3  ...  MULTILINESTRING ((3611 4160, 3854 3698, 3911 3...\n",
      "8     4  ...  LINESTRING (4160 4098, 3991 4077, 3972 3642, 3...\n",
      "9     5  ...  LINESTRING (3002 2875, 3071 2746, 3079 2718, 3...\n",
      "..   ..  ...                                                ...\n",
      "230   5  ...  LINESTRING (-128 2341, 666 2078, 877 2011, 917...\n",
      "231   6  ...  LINESTRING (3542 1101, 3652 1010, 3701 975, 37...\n",
      "232   7  ...  LINESTRING (826 -128, 947 297, 1005 491, 1173 ...\n",
      "233   8  ...  LINESTRING (3947 4224, 4113 4187, 4184 4178, 4...\n",
      "234   9  ...                  LINESTRING (3469 1164, 3542 1101)\n",
      "\n",
      "[227 rows x 54 columns]\n"
     ]
    }
   ],
   "source": [
    "!seg_mbtiles_handler --mbtiles_path ../sample/japan_tokyo.mbtiles --get_random_tile 14"
   ]
  },
  {
   "cell_type": "markdown",
   "metadata": {},
   "source": [
    "- To get area tiles based on a standard tile and zoom level (e.g., standard zoom level 10, column 907, row 619, and target zoom level 11):"
   ]
  },
  {
   "cell_type": "code",
   "execution_count": 6,
   "metadata": {},
   "outputs": [
    {
     "name": "stdout",
     "output_type": "stream",
     "text": [
      "[      id        type  ... name:et                                           geometry\n",
      "10     2  LineString  ...     NaN  LINESTRING (68 275, 84 184, 145 170, 183 126, ...\n",
      "11     3  LineString  ...     NaN  LINESTRING (2017 1127, 1892 1097, 1822 1023, 1...\n",
      "12     4  LineString  ...     NaN  LINESTRING (2446 1538, 2332 1448, 2204 1389, 1...\n",
      "13     5  LineString  ...     NaN  LINESTRING (3765 3472, 3780 3587, 3839 3659, 3...\n",
      "14     6  LineString  ...     NaN  LINESTRING (-64 2013, -7 1978, 37 1982, 98 192...\n",
      "...   ..         ...  ...     ...                                                ...\n",
      "1135   7  LineString  ...     NaN  LINESTRING (1847 3414, 1980 3515, 2102 3651, 2...\n",
      "1136   8  LineString  ...     NaN                      LINESTRING (338 -128, 420 73)\n",
      "1137   9  LineString  ...     NaN  LINESTRING (641 -128, 664 -101, 722 9, 761 234...\n",
      "1138  10  LineString  ...     NaN  LINESTRING (4224 2332, 4200 2359, 4038 2404, 4...\n",
      "1139  11  LineString  ...     NaN  LINESTRING (3413 257, 3392 257, 3376 283, 3348...\n",
      "\n",
      "[1070 rows x 71 columns],      id        type  ... name:cy                                           geometry\n",
      "10    1  LineString  ...     NaN  LINESTRING (2332 3111, 2306 3032, 2365 2870, 2...\n",
      "11    2  LineString  ...     NaN  LINESTRING (4025 553, 4094 591, 4094 629, 4160...\n",
      "12    3  LineString  ...     NaN  LINESTRING (959 457, 1003 441, 1123 480, 1223 ...\n",
      "13    4  LineString  ...     NaN  LINESTRING (1375 392, 1414 354, 1463 346, 1476...\n",
      "14    5  LineString  ...     NaN  LINESTRING (4062 -64, 4069 -42, 4147 -21, 4160...\n",
      "..   ..         ...  ...     ...                                                ...\n",
      "742   5  LineString  ...     NaN  LINESTRING (846 3117, 853 3191, 876 3234, 964 ...\n",
      "743   6  LineString  ...     NaN  LINESTRING (2268 -128, 2410 58, 2449 178, 2441...\n",
      "744   7  LineString  ...     NaN  LINESTRING (3841 1215, 3915 1195, 3979 1204, 4...\n",
      "745   8  LineString  ...     NaN  LINESTRING (4224 1482, 4140 1491, 3987 1530, 3...\n",
      "746   9  LineString  ...     NaN  LINESTRING (3719 1486, 3674 1454, 3628 1336, 3...\n",
      "\n",
      "[688 rows x 70 columns],       id        type  ... name:ka                                           geometry\n",
      "7      1  LineString  ...     NaN  LINESTRING (2920 3862, 2995 3811, 3047 3810, 3...\n",
      "8      2  LineString  ...     NaN       LINESTRING (3807 3975, 3979 4100, 4160 4058)\n",
      "9      3  LineString  ...     NaN           LINESTRING (1500 95, 1633 -62, 1636 -64)\n",
      "10     4  LineString  ...     NaN       LINESTRING (1763 4160, 1878 4061, 2097 3524)\n",
      "11     5  LineString  ...     NaN  LINESTRING (1862 935, 2034 967, 2234 1034, 226...\n",
      "...   ..         ...  ...     ...                                                ...\n",
      "1246   6  LineString  ...     NaN  LINESTRING (2699 4224, 2714 4119, 2871 3732, 2...\n",
      "1247   7  LineString  ...     NaN  LINESTRING (381 2029, 359 2043, 344 2028, 311 ...\n",
      "1248   8  LineString  ...     NaN  LINESTRING (4224 3105, 4165 3075, 4026 3042, 3...\n",
      "1249   9  LineString  ...     NaN  LINESTRING (2326 1639, 2381 1763, 2480 1879, 2...\n",
      "1250  10  LineString  ...     NaN  LINESTRING (2257 1955, 2105 1985, 2062 1983, 2...\n",
      "\n",
      "[1219 rows x 72 columns],      id        type  ... name:hr                                           geometry\n",
      "5     1  LineString  ...     NaN            LINESTRING (3885 -64, 3979 4, 4160 -39)\n",
      "6     2  LineString  ...     NaN  LINESTRING (3006 3436, 3028 3367, 3004 3339, 3...\n",
      "7     3  LineString  ...     NaN  LINESTRING (996 615, 1209 666, 1308 620, 1396 ...\n",
      "8     4  LineString  ...     NaN  LINESTRING (-64 556, -2 591, -2 629, 68 648, 1...\n",
      "9     5  LineString  ...     NaN       LINESTRING (1146 1483, 1183 1376, 1278 1318)\n",
      "..   ..         ...  ...     ...                                                ...\n",
      "893   8  LineString  ...     NaN  LINESTRING (4224 944, 4002 975, 3872 960, 3786...\n",
      "894   9  LineString  ...     NaN  LINESTRING (2654 735, 2566 824, 2468 880, 2004...\n",
      "895  10  LineString  ...     NaN  LINESTRING (2401 865, 2414 814, 2544 604, 2674...\n",
      "896  12  LineString  ...     NaN  LINESTRING (2570 1895, 2775 2120, 2969 2280, 3...\n",
      "897  13  LineString  ...     NaN  LINESTRING (4224 2446, 4170 2458, 4038 2470, 3...\n",
      "\n",
      "[842 rows x 74 columns]]\n"
     ]
    }
   ],
   "source": [
    "!seg_mbtiles_handler --mbtiles_path ../sample/japan_tokyo.mbtiles --get_area_tiles 10 907 619 11"
   ]
  },
  {
   "cell_type": "markdown",
   "metadata": {},
   "source": [
    "### 4. **Generate Dataset:**\n",
    "\n",
    "- To create a dataset in the `sample/japan_tokyo_dataset` folder, containing images and labels for training and validation, you can run the following command:"
   ]
  },
  {
   "cell_type": "code",
   "execution_count": 7,
   "metadata": {},
   "outputs": [],
   "source": [
    "!seg_mbtiles_creator --folder_path ../sample/japan_tokyo_dataset --mbtiles_path ../sample/japan_tokyo.mbtiles"
   ]
  },
  {
   "cell_type": "code",
   "execution_count": null,
   "metadata": {},
   "outputs": [],
   "source": []
  }
 ],
 "metadata": {
  "kernelspec": {
   "display_name": "tf",
   "language": "python",
   "name": "python3"
  },
  "language_info": {
   "codemirror_mode": {
    "name": "ipython",
    "version": 3
   },
   "file_extension": ".py",
   "mimetype": "text/x-python",
   "name": "python",
   "nbconvert_exporter": "python",
   "pygments_lexer": "ipython3",
   "version": "3.9.15"
  }
 },
 "nbformat": 4,
 "nbformat_minor": 2
}
